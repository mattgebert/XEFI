{
 "cells": [
  {
   "cell_type": "markdown",
   "id": "59c173e2",
   "metadata": {},
   "source": [
    "# XEFI\n",
    "### An example of generating a basic XEFI for a mutlilayer interface."
   ]
  },
  {
   "cell_type": "code",
   "execution_count": 1,
   "id": "d453e8cc",
   "metadata": {},
   "outputs": [],
   "source": [
    "import XEFI\n",
    "import kkcalc as kk\n",
    "import numpy as np"
   ]
  },
  {
   "cell_type": "code",
   "execution_count": 2,
   "id": "858d40dd",
   "metadata": {},
   "outputs": [
    {
     "name": "stderr",
     "output_type": "stream",
     "text": [
      "C:\\Github\\kkcalc\\kkcalc\\models\\common.py:382: UserWarning: Setting a formula mass will not be internally used when a `stoichiometry` has been assigned.\n",
      "  warnings.warn(\n",
      "C:\\Github\\kkcalc\\kkcalc\\models\\polynomials.py:1888: UserWarning: When generating `asp_complex`, the energy intervals of real (10.00, 30000.00) and imaginary (10.00, 500000.00) components don't match.\n",
      "  warnings.warn(\n",
      "C:\\Github\\kkcalc\\kkcalc\\models\\polynomials.py:1907: UserWarning: Real energies are a subset of imaginary energies, truncating imaginary energies to match real.\n",
      "  warnings.warn(\n",
      "C:\\Github\\kkcalc\\kkcalc\\models\\polynomials.py:616: UserWarning: ( : N2\n",
      "Energy0\tEnergy1\tC_1\tC_0\tC_-1\tC_-2\tC_-3\n",
      "--------------------------------------\n",
      "10.000\t10.162\t0.146\t-0.102\t0.000\t0.000\t0.000\n",
      "10.162\t10.326\t0.146\t-0.103\t0.000\t0.000\t0.000\n",
      "10.326\t10.493\t0.146\t-0.105\t0.000\t0.000\t0.000\n",
      "10.493\t10.663\t0.146\t-0.107\t0.000\t0.000\t0.000\n",
      "10.663\t10.835\t0.146\t-0.108\t0.000\t0.000\t0.000\n",
      "...\n",
      "27687.300\t28135.100\t-0.000\t0.006\t0.000\t0.000\t0.000\n",
      "28135.100\t28590.200\t0.000\t-0.055\t0.000\t0.000\t0.000\n",
      "28590.200\t29052.600\t0.000\t0.000\t-5.389\t1541952.505\t9001846392.967\n",
      "29052.600\t29522.500\t-0.000\t0.980\t0.000\t0.000\t0.000\n",
      "29522.500\t30000.000\t0.000\t0.000\t-0.443\t842977.873\t37480295427.256) Energies have changed length. Coefficients set to `None`.\n",
      "  warnings.warn(\n",
      "C:\\Github\\kkcalc\\kkcalc\\models\\polynomials.py:616: UserWarning: ( : C10H14S\n",
      "Energy0\tEnergy1\tC_1\tC_0\tC_-1\tC_-2\tC_-3\n",
      "--------------------------------------\n",
      "10.000\t10.162\t3.892\t-26.800\t0.000\t0.000\t0.000\n",
      "10.162\t10.326\t4.029\t-28.188\t0.000\t0.000\t0.000\n",
      "10.326\t10.493\t4.174\t-29.686\t0.000\t0.000\t0.000\n",
      "10.493\t10.663\t4.322\t-31.246\t0.000\t0.000\t0.000\n",
      "10.663\t10.835\t4.556\t-33.732\t0.000\t0.000\t0.000\n",
      "...\n",
      "27687.300\t28135.100\t-0.000\t0.144\t0.000\t0.000\t0.000\n",
      "28135.100\t28590.200\t0.000\t-1.045\t0.000\t0.000\t0.000\n",
      "28590.200\t29052.600\t0.000\t0.001\t-195.761\t46736242.507\t-10073531595.212\n",
      "29052.600\t29522.500\t0.000\t-20.220\t0.000\t0.000\t0.000\n",
      "29522.500\t30000.000\t0.000\t0.000\t-26.451\t32678055.582\t248606379829.604) Energies have changed length. Coefficients set to `None`.\n",
      "  warnings.warn(\n",
      "C:\\Github\\kkcalc\\kkcalc\\models\\polynomials.py:616: UserWarning: ( : C8H8\n",
      "Energy0\tEnergy1\tC_1\tC_0\tC_-1\tC_-2\tC_-3\n",
      "--------------------------------------\n",
      "10.000\t10.162\t2.208\t-15.629\t0.000\t0.000\t0.000\n",
      "10.162\t10.326\t2.292\t-16.481\t0.000\t0.000\t0.000\n",
      "10.326\t10.493\t2.381\t-17.402\t0.000\t0.000\t0.000\n",
      "10.493\t10.663\t2.473\t-18.363\t0.000\t0.000\t0.000\n",
      "10.663\t10.835\t2.632\t-20.057\t0.000\t0.000\t0.000\n",
      "...\n",
      "27687.300\t28135.100\t-0.000\t0.012\t0.000\t0.000\t0.000\n",
      "28135.100\t28590.200\t0.000\t-0.108\t0.000\t0.000\t0.000\n",
      "28590.200\t29052.600\t0.000\t-0.000\t-2.852\t2196042.129\t32539027554.565\n",
      "29052.600\t29522.500\t-0.000\t0.378\t0.000\t0.000\t0.000\n",
      "29522.500\t30000.000\t0.000\t0.000\t-0.269\t1519530.654\t63389573827.458) Energies have changed length. Coefficients set to `None`.\n",
      "  warnings.warn(\n",
      "C:\\Github\\kkcalc\\kkcalc\\models\\polynomials.py:616: UserWarning: ( : Si\n",
      "Energy0\tEnergy1\tC_1\tC_0\tC_-1\tC_-2\tC_-3\n",
      "--------------------------------------\n",
      "10.000\t10.162\t0.042\t3.528\t0.000\t0.000\t0.000\n",
      "10.162\t10.326\t0.041\t3.534\t0.000\t0.000\t0.000\n",
      "10.326\t10.493\t0.041\t3.540\t0.000\t0.000\t0.000\n",
      "10.493\t10.663\t0.040\t3.547\t0.000\t0.000\t0.000\n",
      "10.663\t10.835\t0.040\t3.552\t0.000\t0.000\t0.000\n",
      "...\n",
      "27698.000\t28146.000\t-0.000\t0.072\t0.000\t0.000\t0.000\n",
      "28146.000\t28601.300\t0.000\t-0.564\t0.000\t0.000\t0.000\n",
      "28601.300\t29063.900\t0.000\t0.000\t-111.104\t23958119.128\t-10601814502.442\n",
      "29063.900\t29533.900\t0.000\t-0.302\t0.000\t0.000\t0.000\n",
      "29533.900\t30000.000\t0.000\t0.000\t-3.585\t11724748.126\t446861527158.985) Energies have changed length. Coefficients set to `None`.\n",
      "  warnings.warn(\n"
     ]
    }
   ],
   "source": [
    "refractive_db = kk.models.asp_db_complex\n",
    "refractive_air = refractive_db(\"N2\")\n",
    "refractive_P3HT = refractive_db(\"C10H14S\") \n",
    "refractive_PS = refractive_db(\"C8H8\")\n",
    "refractive_Si = refractive_db(\"Si\")"
   ]
  },
  {
   "cell_type": "code",
   "execution_count": 3,
   "id": "efc6b0fd",
   "metadata": {},
   "outputs": [],
   "source": [
    "# Define some system parameters\n",
    "beam_energy = 2450  # in eV\n",
    "angles = np.linspace(0.01, 10, 200)  # in degrees\n",
    "\n",
    "z = [\n",
    "    0,\n",
    "    -800,\n",
    "    -1200,\n",
    "    -1750,\n",
    "] # Define the z-coordinates for the multilayer interface\n",
    "\n",
    "refractive_indicies = [\n",
    "    refractive_PS,\n",
    "    refractive_P3HT,\n",
    "    refractive_Si,\n",
    "] #  "
   ]
  },
  {
   "cell_type": "code",
   "execution_count": 4,
   "id": "f12c3974",
   "metadata": {},
   "outputs": [
    {
     "name": "stderr",
     "output_type": "stream",
     "text": [
      "c:\\Github\\XEFI\\XEFI\\models\\basic.py:281: RuntimeWarning: divide by zero encountered in divide\n",
      "  np.cos(theta[np.newaxis, :, np.newaxis])\n",
      "c:\\Github\\XEFI\\XEFI\\models\\basic.py:325: RuntimeWarning: overflow encountered in exp\n",
      "  S: npt.NDArray[np.complex128] = np.exp(\n",
      "c:\\Github\\XEFI\\XEFI\\models\\basic.py:334: RuntimeWarning: invalid value encountered in multiply\n",
      "  fresnel_r_rough: npt.NDArray[np.complex128] = fresnel_r * S\n",
      "c:\\Github\\XEFI\\XEFI\\models\\basic.py:348: RuntimeWarning: overflow encountered in exp\n",
      "  np.exp(1j * wavevectors[:, :, i] * (z[i + 1] - z[i]))\n",
      "c:\\Github\\XEFI\\XEFI\\models\\basic.py:353: RuntimeWarning: invalid value encountered in square\n",
      "  (fresnel_r_rough[:, :, i] + a_jp1**2 * X[:, :, i + 1])\n",
      "c:\\Github\\XEFI\\XEFI\\models\\basic.py:354: RuntimeWarning: invalid value encountered in square\n",
      "  / (1 + a_jp1**2 * X[:, :, +1] * fresnel_r_rough[:, :, i])\n",
      "c:\\Github\\XEFI\\XEFI\\models\\basic.py:354: RuntimeWarning: invalid value encountered in multiply\n",
      "  / (1 + a_jp1**2 * X[:, :, +1] * fresnel_r_rough[:, :, i])\n",
      "c:\\Github\\XEFI\\XEFI\\models\\basic.py:353: RuntimeWarning: invalid value encountered in divide\n",
      "  (fresnel_r_rough[:, :, i] + a_jp1**2 * X[:, :, i + 1])\n",
      "c:\\Github\\XEFI\\XEFI\\models\\basic.py:368: RuntimeWarning: invalid value encountered in divide\n",
      "  T[:, :, i + 1] = (a_j * T[:, :, i] * fresnel_t_rough[:, :, i]) / (\n",
      "c:\\Github\\XEFI\\XEFI\\models\\basic.py:364: RuntimeWarning: overflow encountered in exp\n",
      "  np.exp(1j * wavevectors[:, :, i] * z[i + 1])\n",
      "c:\\Github\\XEFI\\XEFI\\models\\basic.py:369: RuntimeWarning: invalid value encountered in square\n",
      "  1 + a_jp1**2 * X[:, :, i + 1] * fresnel_r_rough[:, :, i]\n",
      "c:\\Github\\XEFI\\XEFI\\models\\basic.py:369: RuntimeWarning: invalid value encountered in multiply\n",
      "  1 + a_jp1**2 * X[:, :, i + 1] * fresnel_r_rough[:, :, i]\n",
      "c:\\Github\\XEFI\\XEFI\\models\\basic.py:16: SyntaxWarning: invalid escape sequence '\\l'\n",
      "  \\lambda = (h \\times c) / (E \\times e)\n"
     ]
    },
    {
     "ename": "IndexError",
     "evalue": "index 3 is out of bounds for axis 2 with size 3",
     "output_type": "error",
     "traceback": [
      "\u001b[31m---------------------------------------------------------------------------\u001b[39m",
      "\u001b[31mIndexError\u001b[39m                                Traceback (most recent call last)",
      "\u001b[36mCell\u001b[39m\u001b[36m \u001b[39m\u001b[32mIn[4]\u001b[39m\u001b[32m, line 1\u001b[39m\n\u001b[32m----> \u001b[39m\u001b[32m1\u001b[39m result = \u001b[43mXEFI\u001b[49m\u001b[43m.\u001b[49m\u001b[43mXEF\u001b[49m\u001b[43m(\u001b[49m\n\u001b[32m      2\u001b[39m \u001b[43m    \u001b[49m\u001b[43mbeam_energy\u001b[49m\u001b[43m=\u001b[49m\u001b[43mbeam_energy\u001b[49m\u001b[43m,\u001b[49m\n\u001b[32m      3\u001b[39m \u001b[43m    \u001b[49m\u001b[43mangles\u001b[49m\u001b[43m=\u001b[49m\u001b[43mangles\u001b[49m\u001b[43m,\u001b[49m\n\u001b[32m      4\u001b[39m \u001b[43m    \u001b[49m\u001b[43mz\u001b[49m\u001b[43m=\u001b[49m\u001b[43mz\u001b[49m\u001b[43m,\u001b[49m\n\u001b[32m      5\u001b[39m \u001b[43m    \u001b[49m\u001b[43mrefractive_indices\u001b[49m\u001b[43m=\u001b[49m\u001b[43mrefractive_indicies\u001b[49m\u001b[43m,\u001b[49m\n\u001b[32m      6\u001b[39m \u001b[43m    \u001b[49m\u001b[43mz_roughness\u001b[49m\u001b[43m=\u001b[49m\u001b[43m[\u001b[49m\u001b[32;43m10\u001b[39;49m\u001b[43m,\u001b[49m\u001b[43m \u001b[49m\u001b[32;43m10\u001b[39;49m\u001b[43m,\u001b[49m\u001b[43m \u001b[49m\u001b[32;43m10\u001b[39;49m\u001b[43m]\u001b[49m\n\u001b[32m      7\u001b[39m \u001b[43m)\u001b[49m\n",
      "\u001b[36mFile \u001b[39m\u001b[32mc:\\Github\\XEFI\\XEFI\\models\\basic.py:368\u001b[39m, in \u001b[36mXEF\u001b[39m\u001b[34m(beam_energy, angles, z, refractive_indices, z_roughness, layer_names, input_checking, generate_figure)\u001b[39m\n\u001b[32m    362\u001b[39m     a_j = np.exp(-\u001b[32m1\u001b[39mj * wavevectors[:, :, i] * z[i])\n\u001b[32m    363\u001b[39m     a_jp1 = (\n\u001b[32m    364\u001b[39m         np.exp(\u001b[32m1\u001b[39mj * wavevectors[:, :, i] * z[i + \u001b[32m1\u001b[39m])\n\u001b[32m    365\u001b[39m         \u001b[38;5;28;01mif\u001b[39;00m i + \u001b[32m1\u001b[39m != N\n\u001b[32m    366\u001b[39m         \u001b[38;5;28;01melse\u001b[39;00m \u001b[32m0.0\u001b[39m  \u001b[38;5;66;03m# at i+1 = N, semi-infinite X_N = 0.0\u001b[39;00m\n\u001b[32m    367\u001b[39m     )\n\u001b[32m--> \u001b[39m\u001b[32m368\u001b[39m     \u001b[43mT\u001b[49m\u001b[43m[\u001b[49m\u001b[43m:\u001b[49m\u001b[43m,\u001b[49m\u001b[43m \u001b[49m\u001b[43m:\u001b[49m\u001b[43m,\u001b[49m\u001b[43m \u001b[49m\u001b[43mi\u001b[49m\u001b[43m \u001b[49m\u001b[43m+\u001b[49m\u001b[43m \u001b[49m\u001b[32;43m1\u001b[39;49m\u001b[43m]\u001b[49m = (a_j * T[:, :, i] * fresnel_t_rough[:, :, i]) / (\n\u001b[32m    369\u001b[39m         \u001b[32m1\u001b[39m + a_jp1**\u001b[32m2\u001b[39m * X[:, :, i + \u001b[32m1\u001b[39m] * fresnel_r_rough[:, :, i]\n\u001b[32m    370\u001b[39m     )\n\u001b[32m    371\u001b[39m     R[:, :, i] = a_j**\u001b[32m2\u001b[39m * X[:, :, i] * T[:, :, i]\n\u001b[32m    372\u001b[39m result.R = R\n",
      "\u001b[31mIndexError\u001b[39m: index 3 is out of bounds for axis 2 with size 3"
     ]
    }
   ],
   "source": [
    "result = XEFI.XEF(\n",
    "    beam_energy=beam_energy,\n",
    "    angles=angles,\n",
    "    z=z,\n",
    "    refractive_indices=refractive_indicies,\n",
    "    z_roughness=[10, 10, 10]\n",
    ")"
   ]
  },
  {
   "cell_type": "code",
   "execution_count": null,
   "id": "c3f88488",
   "metadata": {},
   "outputs": [],
   "source": []
  }
 ],
 "metadata": {
  "kernelspec": {
   "display_name": "XEFI",
   "language": "python",
   "name": "python3"
  },
  "language_info": {
   "codemirror_mode": {
    "name": "ipython",
    "version": 3
   },
   "file_extension": ".py",
   "mimetype": "text/x-python",
   "name": "python",
   "nbconvert_exporter": "python",
   "pygments_lexer": "ipython3",
   "version": "3.13.4"
  }
 },
 "nbformat": 4,
 "nbformat_minor": 5
}
